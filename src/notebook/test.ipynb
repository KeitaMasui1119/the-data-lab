{
 "cells": [
  {
   "cell_type": "code",
   "execution_count": 1,
   "id": "6128327c",
   "metadata": {},
   "outputs": [
    {
     "name": "stdout",
     "output_type": "stream",
     "text": [
      "Hello World\n"
     ]
    }
   ],
   "source": [
    "print(\"Hello World\")"
   ]
  },
  {
   "cell_type": "markdown",
   "id": "b4aca280",
   "metadata": {},
   "source": [
    "# ライブラリのインポート"
   ]
  },
  {
   "cell_type": "code",
   "execution_count": 3,
   "id": "357ab2aa",
   "metadata": {},
   "outputs": [],
   "source": [
    "import pandas as pd\n",
    "import matplotlib.pyplot as plt\n",
    "import numpy as np\n",
    "import plotly.express as px"
   ]
  },
  {
   "cell_type": "markdown",
   "id": "9905e7cf",
   "metadata": {},
   "source": [
    "# Latexの書き方\n",
    "\n",
    "## 問題1：2次方程式の解\n",
    "以下の2次方程式を考える：\n",
    "\n",
    "\\begin{equation}\n",
    "ax^2 + bx + c = 0\n",
    "\\end{equation}\n",
    "\n",
    "この方程式の解は、判別式 $D = b^2 - 4ac$ を用いて以下のように表される：\n",
    "\n",
    "\\begin{equation}\n",
    "x = \\frac{-b \\pm \\sqrt{b^2 - 4ac}}{2a}\n",
    "\\end{equation}\n",
    "\n",
    "## 問題2：定積分の計算\n",
    "次の定積分を計算せよ：\n",
    "\n",
    "\\begin{equation}\n",
    "\\int_{0}^{1} x^2 dx\n",
    "\\end{equation}\n",
    "\n",
    "\\textbf{解答}：\n",
    "\n",
    "\\begin{align*}\n",
    "\\int_{0}^{1} x^2 dx &= \\left[ \\frac{1}{3}x^3 \\right]_0^1 \\\\\n",
    "&= \\frac{1}{3}\n",
    "\\end{align*}\n",
    "\n",
    "## 問題3：線形代数\n",
    "次の連立一次方程式を行列の形で表現し、解を求めよ：\n",
    "\n",
    "\\begin{align*}\n",
    "2x + y &= 5 \\\\\n",
    "3x - 2y &= -4\n",
    "\\end{align*}\n",
    "\n",
    "行列形式で書くと：\n",
    "\n",
    "\\[\n",
    "\\begin{bmatrix}\n",
    "2 & 1 \\\\\n",
    "3 & -2\n",
    "\\end{bmatrix}\n",
    "\\begin{bmatrix}\n",
    "x \\\\\n",
    "y\n",
    "\\end{bmatrix}\n",
    "=\n",
    "\\begin{bmatrix}\n",
    "5 \\\\\n",
    "-4\n",
    "\\end{bmatrix}\n",
    "\\]\n",
    "\n",
    "ガウスの消去法等で解が求まる。\n"
   ]
  },
  {
   "cell_type": "code",
   "execution_count": 4,
   "id": "63db9343",
   "metadata": {},
   "outputs": [
    {
     "data": {
      "application/vnd.plotly.v1+json": {
       "config": {
        "plotlyServerURL": "https://plot.ly"
       },
       "data": [
        {
         "mode": "lines+markers",
         "name": "日次データ",
         "type": "scatter",
         "x": [
          "2024-01-01T00:00:00.000000000",
          "2024-01-02T00:00:00.000000000",
          "2024-01-03T00:00:00.000000000",
          "2024-01-04T00:00:00.000000000",
          "2024-01-05T00:00:00.000000000",
          "2024-01-06T00:00:00.000000000",
          "2024-01-07T00:00:00.000000000",
          "2024-01-08T00:00:00.000000000",
          "2024-01-09T00:00:00.000000000",
          "2024-01-10T00:00:00.000000000",
          "2024-01-11T00:00:00.000000000",
          "2024-01-12T00:00:00.000000000",
          "2024-01-13T00:00:00.000000000",
          "2024-01-14T00:00:00.000000000",
          "2024-01-15T00:00:00.000000000",
          "2024-01-16T00:00:00.000000000",
          "2024-01-17T00:00:00.000000000",
          "2024-01-18T00:00:00.000000000",
          "2024-01-19T00:00:00.000000000",
          "2024-01-20T00:00:00.000000000",
          "2024-01-21T00:00:00.000000000",
          "2024-01-22T00:00:00.000000000",
          "2024-01-23T00:00:00.000000000",
          "2024-01-24T00:00:00.000000000",
          "2024-01-25T00:00:00.000000000",
          "2024-01-26T00:00:00.000000000",
          "2024-01-27T00:00:00.000000000",
          "2024-01-28T00:00:00.000000000",
          "2024-01-29T00:00:00.000000000",
          "2024-01-30T00:00:00.000000000",
          "2024-01-31T00:00:00.000000000",
          "2024-02-01T00:00:00.000000000",
          "2024-02-02T00:00:00.000000000",
          "2024-02-03T00:00:00.000000000",
          "2024-02-04T00:00:00.000000000",
          "2024-02-05T00:00:00.000000000",
          "2024-02-06T00:00:00.000000000",
          "2024-02-07T00:00:00.000000000",
          "2024-02-08T00:00:00.000000000",
          "2024-02-09T00:00:00.000000000",
          "2024-02-10T00:00:00.000000000",
          "2024-02-11T00:00:00.000000000",
          "2024-02-12T00:00:00.000000000",
          "2024-02-13T00:00:00.000000000",
          "2024-02-14T00:00:00.000000000",
          "2024-02-15T00:00:00.000000000",
          "2024-02-16T00:00:00.000000000",
          "2024-02-17T00:00:00.000000000",
          "2024-02-18T00:00:00.000000000",
          "2024-02-19T00:00:00.000000000",
          "2024-02-20T00:00:00.000000000",
          "2024-02-21T00:00:00.000000000",
          "2024-02-22T00:00:00.000000000",
          "2024-02-23T00:00:00.000000000",
          "2024-02-24T00:00:00.000000000",
          "2024-02-25T00:00:00.000000000",
          "2024-02-26T00:00:00.000000000",
          "2024-02-27T00:00:00.000000000",
          "2024-02-28T00:00:00.000000000",
          "2024-02-29T00:00:00.000000000",
          "2024-03-01T00:00:00.000000000",
          "2024-03-02T00:00:00.000000000",
          "2024-03-03T00:00:00.000000000",
          "2024-03-04T00:00:00.000000000",
          "2024-03-05T00:00:00.000000000",
          "2024-03-06T00:00:00.000000000",
          "2024-03-07T00:00:00.000000000",
          "2024-03-08T00:00:00.000000000",
          "2024-03-09T00:00:00.000000000",
          "2024-03-10T00:00:00.000000000",
          "2024-03-11T00:00:00.000000000",
          "2024-03-12T00:00:00.000000000",
          "2024-03-13T00:00:00.000000000",
          "2024-03-14T00:00:00.000000000",
          "2024-03-15T00:00:00.000000000",
          "2024-03-16T00:00:00.000000000",
          "2024-03-17T00:00:00.000000000",
          "2024-03-18T00:00:00.000000000",
          "2024-03-19T00:00:00.000000000",
          "2024-03-20T00:00:00.000000000",
          "2024-03-21T00:00:00.000000000",
          "2024-03-22T00:00:00.000000000",
          "2024-03-23T00:00:00.000000000",
          "2024-03-24T00:00:00.000000000",
          "2024-03-25T00:00:00.000000000",
          "2024-03-26T00:00:00.000000000",
          "2024-03-27T00:00:00.000000000",
          "2024-03-28T00:00:00.000000000",
          "2024-03-29T00:00:00.000000000",
          "2024-03-30T00:00:00.000000000",
          "2024-03-31T00:00:00.000000000",
          "2024-04-01T00:00:00.000000000",
          "2024-04-02T00:00:00.000000000",
          "2024-04-03T00:00:00.000000000",
          "2024-04-04T00:00:00.000000000",
          "2024-04-05T00:00:00.000000000",
          "2024-04-06T00:00:00.000000000",
          "2024-04-07T00:00:00.000000000",
          "2024-04-08T00:00:00.000000000",
          "2024-04-09T00:00:00.000000000"
         ],
         "y": {
          "bdata": "YVJRVJQ/SUBcdEuv4S1JQNUFjCTJgElAJxP8yLtDSkCAuxwMwyVKQKVK9tjKB0pARk44fu7RSkClEVTLKTRLQGgevQ4S+EpAHsdCqoQ9S0DnROVkMwJLQAcXj1yWxkpAAbY0+47lSkBTRD2dqPBJQDLNtYHeE0lAQUgLeOXLSEC1Lc4EQUpIQMFafkZ6ckhAsS54JED+R0ATjlfGeUlHQH2GVCcUBUhA5B9z6i3oR0B/eBau0vBHQEQPDoh0OkdAXOPGMsb0RkDfe+bo+AJHQDYE+Calb0ZA8v9eBryfRkADC9pL2lJGQF4jVBOELUZAZ3ttWn/gRUAaQwbOls1GQBHYGIfcy0ZAr5m8dHlERkBoFpGbwq1GQJcCwgB+EUZAAfKUCzosRkB7cBqTYzFFQKPt/JJhh0RA3eG5UpSgREBUBGNlGv9EQIKouMoJFUVAak+dOjwGRUAKrr6psd9EQEooWXRxIkRAsYV2mU3GQ0BTQGJjV4tDQGb+WCunEkRA6f562qI+REA/lrqN91xDQO9wGyNzhkNA0RzPwihVQ0Dse4Bhg/5CQKCjHMrOTENAhkv0lMbQQ0D2zc/E+kdEQKGR+0mP3ENATquSBPu0Q0DnyaTbYd9DQIcrTYVAXERAutp08OoeREBMXRREJwdEQNp5quGKeUNAK6I1lW3gQkCCzdJtbkhDQPLrxrMH9kNAYFYYE9DsQ0BjyjDXQ21EQKwbC+6Nm0RAgRdPpfpIREBUYWDbPHdEQFXkOD0bPEVADrufSoU3RUDIiemIy/9FQNKTLLp3sERANfkY1KsZRUAMn9Qv0CRFQDDdYFCK/kRAdgCQIUkKRUCOnxB54AtEQCKRtUPC70NANmIVIXgdREBP8ePCo9pEQF70MBVNmERAlTpJXdAwREC73CLKlvBDQNX4qa/CZURAYDraM9ePRED0RisFCExEQGTwdsS6jURAesD4zSeaREBroxZdJBZFQEmC43xHvERAJJ+Vp1aSREDahf4NJmBEQDnOypjRpENAmaS33bjKQ0Cc3w8gI+xDQN1l2K7K7ENAj3FXu8POQ0A=",
          "dtype": "f8"
         }
        }
       ],
       "layout": {
        "hovermode": "x unified",
        "template": {
         "data": {
          "bar": [
           {
            "error_x": {
             "color": "#2a3f5f"
            },
            "error_y": {
             "color": "#2a3f5f"
            },
            "marker": {
             "line": {
              "color": "#E5ECF6",
              "width": 0.5
             },
             "pattern": {
              "fillmode": "overlay",
              "size": 10,
              "solidity": 0.2
             }
            },
            "type": "bar"
           }
          ],
          "barpolar": [
           {
            "marker": {
             "line": {
              "color": "#E5ECF6",
              "width": 0.5
             },
             "pattern": {
              "fillmode": "overlay",
              "size": 10,
              "solidity": 0.2
             }
            },
            "type": "barpolar"
           }
          ],
          "carpet": [
           {
            "aaxis": {
             "endlinecolor": "#2a3f5f",
             "gridcolor": "white",
             "linecolor": "white",
             "minorgridcolor": "white",
             "startlinecolor": "#2a3f5f"
            },
            "baxis": {
             "endlinecolor": "#2a3f5f",
             "gridcolor": "white",
             "linecolor": "white",
             "minorgridcolor": "white",
             "startlinecolor": "#2a3f5f"
            },
            "type": "carpet"
           }
          ],
          "choropleth": [
           {
            "colorbar": {
             "outlinewidth": 0,
             "ticks": ""
            },
            "type": "choropleth"
           }
          ],
          "contour": [
           {
            "colorbar": {
             "outlinewidth": 0,
             "ticks": ""
            },
            "colorscale": [
             [
              0,
              "#0d0887"
             ],
             [
              0.1111111111111111,
              "#46039f"
             ],
             [
              0.2222222222222222,
              "#7201a8"
             ],
             [
              0.3333333333333333,
              "#9c179e"
             ],
             [
              0.4444444444444444,
              "#bd3786"
             ],
             [
              0.5555555555555556,
              "#d8576b"
             ],
             [
              0.6666666666666666,
              "#ed7953"
             ],
             [
              0.7777777777777778,
              "#fb9f3a"
             ],
             [
              0.8888888888888888,
              "#fdca26"
             ],
             [
              1,
              "#f0f921"
             ]
            ],
            "type": "contour"
           }
          ],
          "contourcarpet": [
           {
            "colorbar": {
             "outlinewidth": 0,
             "ticks": ""
            },
            "type": "contourcarpet"
           }
          ],
          "heatmap": [
           {
            "colorbar": {
             "outlinewidth": 0,
             "ticks": ""
            },
            "colorscale": [
             [
              0,
              "#0d0887"
             ],
             [
              0.1111111111111111,
              "#46039f"
             ],
             [
              0.2222222222222222,
              "#7201a8"
             ],
             [
              0.3333333333333333,
              "#9c179e"
             ],
             [
              0.4444444444444444,
              "#bd3786"
             ],
             [
              0.5555555555555556,
              "#d8576b"
             ],
             [
              0.6666666666666666,
              "#ed7953"
             ],
             [
              0.7777777777777778,
              "#fb9f3a"
             ],
             [
              0.8888888888888888,
              "#fdca26"
             ],
             [
              1,
              "#f0f921"
             ]
            ],
            "type": "heatmap"
           }
          ],
          "histogram": [
           {
            "marker": {
             "pattern": {
              "fillmode": "overlay",
              "size": 10,
              "solidity": 0.2
             }
            },
            "type": "histogram"
           }
          ],
          "histogram2d": [
           {
            "colorbar": {
             "outlinewidth": 0,
             "ticks": ""
            },
            "colorscale": [
             [
              0,
              "#0d0887"
             ],
             [
              0.1111111111111111,
              "#46039f"
             ],
             [
              0.2222222222222222,
              "#7201a8"
             ],
             [
              0.3333333333333333,
              "#9c179e"
             ],
             [
              0.4444444444444444,
              "#bd3786"
             ],
             [
              0.5555555555555556,
              "#d8576b"
             ],
             [
              0.6666666666666666,
              "#ed7953"
             ],
             [
              0.7777777777777778,
              "#fb9f3a"
             ],
             [
              0.8888888888888888,
              "#fdca26"
             ],
             [
              1,
              "#f0f921"
             ]
            ],
            "type": "histogram2d"
           }
          ],
          "histogram2dcontour": [
           {
            "colorbar": {
             "outlinewidth": 0,
             "ticks": ""
            },
            "colorscale": [
             [
              0,
              "#0d0887"
             ],
             [
              0.1111111111111111,
              "#46039f"
             ],
             [
              0.2222222222222222,
              "#7201a8"
             ],
             [
              0.3333333333333333,
              "#9c179e"
             ],
             [
              0.4444444444444444,
              "#bd3786"
             ],
             [
              0.5555555555555556,
              "#d8576b"
             ],
             [
              0.6666666666666666,
              "#ed7953"
             ],
             [
              0.7777777777777778,
              "#fb9f3a"
             ],
             [
              0.8888888888888888,
              "#fdca26"
             ],
             [
              1,
              "#f0f921"
             ]
            ],
            "type": "histogram2dcontour"
           }
          ],
          "mesh3d": [
           {
            "colorbar": {
             "outlinewidth": 0,
             "ticks": ""
            },
            "type": "mesh3d"
           }
          ],
          "parcoords": [
           {
            "line": {
             "colorbar": {
              "outlinewidth": 0,
              "ticks": ""
             }
            },
            "type": "parcoords"
           }
          ],
          "pie": [
           {
            "automargin": true,
            "type": "pie"
           }
          ],
          "scatter": [
           {
            "fillpattern": {
             "fillmode": "overlay",
             "size": 10,
             "solidity": 0.2
            },
            "type": "scatter"
           }
          ],
          "scatter3d": [
           {
            "line": {
             "colorbar": {
              "outlinewidth": 0,
              "ticks": ""
             }
            },
            "marker": {
             "colorbar": {
              "outlinewidth": 0,
              "ticks": ""
             }
            },
            "type": "scatter3d"
           }
          ],
          "scattercarpet": [
           {
            "marker": {
             "colorbar": {
              "outlinewidth": 0,
              "ticks": ""
             }
            },
            "type": "scattercarpet"
           }
          ],
          "scattergeo": [
           {
            "marker": {
             "colorbar": {
              "outlinewidth": 0,
              "ticks": ""
             }
            },
            "type": "scattergeo"
           }
          ],
          "scattergl": [
           {
            "marker": {
             "colorbar": {
              "outlinewidth": 0,
              "ticks": ""
             }
            },
            "type": "scattergl"
           }
          ],
          "scattermap": [
           {
            "marker": {
             "colorbar": {
              "outlinewidth": 0,
              "ticks": ""
             }
            },
            "type": "scattermap"
           }
          ],
          "scattermapbox": [
           {
            "marker": {
             "colorbar": {
              "outlinewidth": 0,
              "ticks": ""
             }
            },
            "type": "scattermapbox"
           }
          ],
          "scatterpolar": [
           {
            "marker": {
             "colorbar": {
              "outlinewidth": 0,
              "ticks": ""
             }
            },
            "type": "scatterpolar"
           }
          ],
          "scatterpolargl": [
           {
            "marker": {
             "colorbar": {
              "outlinewidth": 0,
              "ticks": ""
             }
            },
            "type": "scatterpolargl"
           }
          ],
          "scatterternary": [
           {
            "marker": {
             "colorbar": {
              "outlinewidth": 0,
              "ticks": ""
             }
            },
            "type": "scatterternary"
           }
          ],
          "surface": [
           {
            "colorbar": {
             "outlinewidth": 0,
             "ticks": ""
            },
            "colorscale": [
             [
              0,
              "#0d0887"
             ],
             [
              0.1111111111111111,
              "#46039f"
             ],
             [
              0.2222222222222222,
              "#7201a8"
             ],
             [
              0.3333333333333333,
              "#9c179e"
             ],
             [
              0.4444444444444444,
              "#bd3786"
             ],
             [
              0.5555555555555556,
              "#d8576b"
             ],
             [
              0.6666666666666666,
              "#ed7953"
             ],
             [
              0.7777777777777778,
              "#fb9f3a"
             ],
             [
              0.8888888888888888,
              "#fdca26"
             ],
             [
              1,
              "#f0f921"
             ]
            ],
            "type": "surface"
           }
          ],
          "table": [
           {
            "cells": {
             "fill": {
              "color": "#EBF0F8"
             },
             "line": {
              "color": "white"
             }
            },
            "header": {
             "fill": {
              "color": "#C8D4E3"
             },
             "line": {
              "color": "white"
             }
            },
            "type": "table"
           }
          ]
         },
         "layout": {
          "annotationdefaults": {
           "arrowcolor": "#2a3f5f",
           "arrowhead": 0,
           "arrowwidth": 1
          },
          "autotypenumbers": "strict",
          "coloraxis": {
           "colorbar": {
            "outlinewidth": 0,
            "ticks": ""
           }
          },
          "colorscale": {
           "diverging": [
            [
             0,
             "#8e0152"
            ],
            [
             0.1,
             "#c51b7d"
            ],
            [
             0.2,
             "#de77ae"
            ],
            [
             0.3,
             "#f1b6da"
            ],
            [
             0.4,
             "#fde0ef"
            ],
            [
             0.5,
             "#f7f7f7"
            ],
            [
             0.6,
             "#e6f5d0"
            ],
            [
             0.7,
             "#b8e186"
            ],
            [
             0.8,
             "#7fbc41"
            ],
            [
             0.9,
             "#4d9221"
            ],
            [
             1,
             "#276419"
            ]
           ],
           "sequential": [
            [
             0,
             "#0d0887"
            ],
            [
             0.1111111111111111,
             "#46039f"
            ],
            [
             0.2222222222222222,
             "#7201a8"
            ],
            [
             0.3333333333333333,
             "#9c179e"
            ],
            [
             0.4444444444444444,
             "#bd3786"
            ],
            [
             0.5555555555555556,
             "#d8576b"
            ],
            [
             0.6666666666666666,
             "#ed7953"
            ],
            [
             0.7777777777777778,
             "#fb9f3a"
            ],
            [
             0.8888888888888888,
             "#fdca26"
            ],
            [
             1,
             "#f0f921"
            ]
           ],
           "sequentialminus": [
            [
             0,
             "#0d0887"
            ],
            [
             0.1111111111111111,
             "#46039f"
            ],
            [
             0.2222222222222222,
             "#7201a8"
            ],
            [
             0.3333333333333333,
             "#9c179e"
            ],
            [
             0.4444444444444444,
             "#bd3786"
            ],
            [
             0.5555555555555556,
             "#d8576b"
            ],
            [
             0.6666666666666666,
             "#ed7953"
            ],
            [
             0.7777777777777778,
             "#fb9f3a"
            ],
            [
             0.8888888888888888,
             "#fdca26"
            ],
            [
             1,
             "#f0f921"
            ]
           ]
          },
          "colorway": [
           "#636efa",
           "#EF553B",
           "#00cc96",
           "#ab63fa",
           "#FFA15A",
           "#19d3f3",
           "#FF6692",
           "#B6E880",
           "#FF97FF",
           "#FECB52"
          ],
          "font": {
           "color": "#2a3f5f"
          },
          "geo": {
           "bgcolor": "white",
           "lakecolor": "white",
           "landcolor": "#E5ECF6",
           "showlakes": true,
           "showland": true,
           "subunitcolor": "white"
          },
          "hoverlabel": {
           "align": "left"
          },
          "hovermode": "closest",
          "mapbox": {
           "style": "light"
          },
          "paper_bgcolor": "white",
          "plot_bgcolor": "#E5ECF6",
          "polar": {
           "angularaxis": {
            "gridcolor": "white",
            "linecolor": "white",
            "ticks": ""
           },
           "bgcolor": "#E5ECF6",
           "radialaxis": {
            "gridcolor": "white",
            "linecolor": "white",
            "ticks": ""
           }
          },
          "scene": {
           "xaxis": {
            "backgroundcolor": "#E5ECF6",
            "gridcolor": "white",
            "gridwidth": 2,
            "linecolor": "white",
            "showbackground": true,
            "ticks": "",
            "zerolinecolor": "white"
           },
           "yaxis": {
            "backgroundcolor": "#E5ECF6",
            "gridcolor": "white",
            "gridwidth": 2,
            "linecolor": "white",
            "showbackground": true,
            "ticks": "",
            "zerolinecolor": "white"
           },
           "zaxis": {
            "backgroundcolor": "#E5ECF6",
            "gridcolor": "white",
            "gridwidth": 2,
            "linecolor": "white",
            "showbackground": true,
            "ticks": "",
            "zerolinecolor": "white"
           }
          },
          "shapedefaults": {
           "line": {
            "color": "#2a3f5f"
           }
          },
          "ternary": {
           "aaxis": {
            "gridcolor": "white",
            "linecolor": "white",
            "ticks": ""
           },
           "baxis": {
            "gridcolor": "white",
            "linecolor": "white",
            "ticks": ""
           },
           "bgcolor": "#E5ECF6",
           "caxis": {
            "gridcolor": "white",
            "linecolor": "white",
            "ticks": ""
           }
          },
          "title": {
           "x": 0.05
          },
          "xaxis": {
           "automargin": true,
           "gridcolor": "white",
           "linecolor": "white",
           "ticks": "",
           "title": {
            "standoff": 15
           },
           "zerolinecolor": "white",
           "zerolinewidth": 2
          },
          "yaxis": {
           "automargin": true,
           "gridcolor": "white",
           "linecolor": "white",
           "ticks": "",
           "title": {
            "standoff": 15
           },
           "zerolinecolor": "white",
           "zerolinewidth": 2
          }
         }
        },
        "title": {
         "text": "Plotlyを使用した日次データの折れ線グラフ"
        },
        "xaxis": {
         "title": {
          "text": "日付"
         }
        },
        "yaxis": {
         "title": {
          "text": "値"
         }
        }
       }
      }
     },
     "metadata": {},
     "output_type": "display_data"
    }
   ],
   "source": [
    "import plotly.graph_objects as go\n",
    "import pandas as pd\n",
    "import numpy as np\n",
    "\n",
    "# ダミーデータの生成\n",
    "# 実際のデータに置き換えることができます\n",
    "np.random.seed(42)\n",
    "dates = pd.date_range(start=\"2024-01-01\", periods=100, freq=\"D\")\n",
    "y_data = np.random.randn(100).cumsum() + 50\n",
    "\n",
    "# データフレームの作成\n",
    "df = pd.DataFrame({'Date': dates, 'Value': y_data})\n",
    "\n",
    "# Plotlyのグラフオブジェクトを生成\n",
    "# go.Scatterは折れ線グラフを作成するためのクラスです\n",
    "fig = go.Figure(\n",
    "    data=go.Scatter(\n",
    "        x=df['Date'],\n",
    "        y=df['Value'],\n",
    "        mode='lines+markers',\n",
    "        name='日次データ'\n",
    "    )\n",
    ")\n",
    "\n",
    "# グラフのレイアウトをカスタマイズ\n",
    "fig.update_layout(\n",
    "    title='Plotlyを使用した日次データの折れ線グラフ',\n",
    "    xaxis_title='日付',\n",
    "    yaxis_title='値',\n",
    "    hovermode='x unified'\n",
    ")\n",
    "\n",
    "# グラフをJupyter Notebookに表示\n",
    "# .show()メソッドは、グラフをブラウザでインタラクティブに表示します\n",
    "fig.show()"
   ]
  },
  {
   "cell_type": "code",
   "execution_count": 6,
   "id": "37b57844",
   "metadata": {},
   "outputs": [
    {
     "data": {
      "image/png": "[encoded data removed]",
      "text/plain": [
       "<Figure size 1000x600 with 1 Axes>"
      ]
     },
     "metadata": {},
     "output_type": "display_data"
    }
   ],
   "source": [
    "import matplotlib.pyplot as plt\n",
    "import japanize_matplotlib\n",
    "import pandas as pd\n",
    "import numpy as np\n",
    "\n",
    "# ダミーデータの生成\n",
    "# 実際のデータに置き換えることができます\n",
    "np.random.seed(42)\n",
    "dates = pd.date_range(start=\"2024-01-01\", periods=100, freq=\"D\")\n",
    "y_data = np.random.randn(100).cumsum() + 50\n",
    "\n",
    "# データフレームの作成\n",
    "df = pd.DataFrame({'Date': dates, 'Value': y_data})\n",
    "\n",
    "# プロットの作成\n",
    "plt.figure(figsize=(10, 6))  # グラフのサイズを設定\n",
    "plt.plot(df['Date'], df['Value'], marker='o', linestyle='-')\n",
    "\n",
    "# グラフのカスタマイズ\n",
    "plt.title('Matplotlibを使用した日次データの折れ線グラフ', fontsize=16)\n",
    "plt.xlabel('日付', fontsize=12)\n",
    "plt.ylabel('値', fontsize=12)\n",
    "plt.grid(True)  # グリッド線を表示\n",
    "plt.xticks(rotation=45) # X軸のラベルを45度回転させて見やすくする\n",
    "plt.tight_layout() # レイアウトを調整\n",
    "\n",
    "# グラフの表示\n",
    "plt.show()"
   ]
  },
  {
   "cell_type": "code",
   "execution_count": null,
   "id": "d1513fb7",
   "metadata": {},
   "outputs": [],
   "source": [
    "# セル1: 必要なライブラリのインポート\n",
    "# データ操作と可視化のために、Pandas, NumPy, Matplotlibをインポートします。\n",
    "\n",
    "import pandas as pd\n",
    "import numpy as np\n",
    "import matplotlib.pyplot as plt\n",
    "import japanize_matplotlib\n",
    "\n",
    "print(\"ライブラリのインポートが完了しました。\")\n",
    "\n",
    "# ---\n",
    "\n",
    "# セル2: ダミーデータの生成と表示\n",
    "# 複数の列を持つDataFrameを作成し、最初の数行を表示します。\n",
    "\n",
    "np.random.seed(42)  # 再現性のためのシード設定\n",
    "data = {\n",
    "    'city': np.random.choice(['Tokyo', 'Osaka', 'Nagoya'], 1000),\n",
    "    'temperature': np.random.normal(loc=25, scale=5, size=1000),\n",
    "    'humidity': np.random.normal(loc=60, scale=10, size=1000),\n",
    "    'rainfall_mm': np.random.exponential(scale=5, size=1000),\n",
    "    'date': pd.date_range(start='2024-01-01', periods=1000, freq='D')\n",
    "}\n",
    "\n",
    "df = pd.DataFrame(data)\n",
    "\n",
    "print(\"生成されたDataFrameの最初の5行:\")\n",
    "print(df.head())\n",
    "print(\"\\nDataFrameの情報:\")\n",
    "df.info()\n",
    "\n",
    "# ---\n",
    "\n",
    "# セル3: 基本的な統計分析\n",
    "# DataFrameの要約統計量を手動で計算し、カテゴリ別の平均値を算出します。\n",
    "\n",
    "# 全体の統計量\n",
    "print(\"全体の統計量:\")\n",
    "print(f\"平均気温: {df['temperature'].mean():.2f}\")\n",
    "print(f\"気温の中央値: {df['temperature'].median():.2f}\")\n",
    "print(f\"気温の標準偏差: {df['temperature'].std():.2f}\")\n",
    "print(f\"最大降雨量: {df['rainfall_mm'].max():.2f}\")\n",
    "print(f\"最小湿度: {df['humidity'].min():.2f}\")\n",
    "\n",
    "# 都市別の統計量\n",
    "print(\"\\n都市別の平均気温と湿度:\")\n",
    "city_stats = df.groupby('city')[['temperature', 'humidity']].mean()\n",
    "print(city_stats)\n",
    "\n",
    "# ---\n",
    "\n",
    "# セル4: データの可視化 (Matplotlibのみ)\n",
    "# 複数の種類のグラフを作成して、データの関係性を探ります。\n",
    "\n",
    "# 散布図: 気温と湿度の関係\n",
    "plt.figure(figsize=(10, 6))\n",
    "# 都市ごとにデータを分割してプロット\n",
    "for city in df['city'].unique():\n",
    "    subset = df[df['city'] == city]\n",
    "    plt.scatter(subset['temperature'], subset['humidity'], label=city, alpha=0.7)\n",
    "\n",
    "plt.title('気温と湿度の関係 (都市別)', fontsize=16)\n",
    "plt.xlabel('気温 (°C)', fontsize=12)\n",
    "plt.ylabel('湿度 (%)', fontsize=12)\n",
    "plt.legend(title='都市')\n",
    "plt.grid(True)\n",
    "plt.show()\n",
    "\n",
    "# ヒストグラム: 降雨量の分布\n",
    "plt.figure(figsize=(10, 6))\n",
    "plt.hist(df['rainfall_mm'], bins=30, edgecolor='black')\n",
    "plt.title('降雨量の分布', fontsize=16)\n",
    "plt.xlabel('降雨量 (mm)', fontsize=12)\n",
    "plt.ylabel('頻度', fontsize=12)\n",
    "plt.grid(axis='y', alpha=0.75)\n",
    "plt.show()\n",
    "\n",
    "# ---\n",
    "\n",
    "# セル5: ファイルの読み書き\n",
    "# DataFrameをCSVファイルに保存し、再度読み込みます。\n",
    "\n",
    "file_path = 'weather_data_no_ss.csv'\n",
    "df.to_csv(file_path, index=False)\n",
    "print(f\"DataFrameを'{file_path}'に保存しました。\")\n",
    "\n",
    "# 保存したファイルを読み込む\n",
    "df_loaded = pd.read_csv(file_path)\n",
    "\n",
    "print(f\"\\n'{file_path}'から読み込んだDataFrameの最初の5行:\")\n",
    "print(df_loaded.head())\n",
    "\n",
    "print(\"\\nデータの整合性を確認...\")\n",
    "if df.equals(df_loaded):\n",
    "    print(\"データは正常に保存・読み込みされました。\")\n",
    "else:\n",
    "    print(\"データの整合性に問題があります。\")"
   ]
  }
 ],
 "metadata": {
  "kernelspec": {
   "display_name": "Python 3",
   "language": "python",
   "name": "python3"
  },
  "language_info": {
   "codemirror_mode": {
    "name": "ipython",
    "version": 3
   },
   "file_extension": ".py",
   "mimetype": "text/x-python",
   "name": "python",
   "nbconvert_exporter": "python",
   "pygments_lexer": "ipython3",
   "version": "3.13.7"
  }
 },
 "nbformat": 4,
 "nbformat_minor": 5
}
